{
 "cells": [
  {
   "cell_type": "code",
   "execution_count": 1,
   "metadata": {},
   "outputs": [],
   "source": [
    "import torch\n",
    "from torch.autograd import Variable\n",
    "import warnings\n",
    "from torch import nn\n",
    "from collections import OrderedDict\n",
    "import os\n",
    "import numpy as np\n",
    "import pandas as pd\n",
    "import seaborn as sns\n",
    "from sklearn.linear_model import LogisticRegression\n",
    "import matplotlib.pyplot as plt\n",
    "import data as data\n",
    "from data.BehavioralDataset import BehavioralDataset\n",
    "from data.BehavioralHmSamples import BehavioralHmSamples\n",
    "import scipy\n",
    "from sklearn.preprocessing import MinMaxScaler"
   ]
  },
  {
   "cell_type": "code",
   "execution_count": 2,
   "metadata": {},
   "outputs": [],
   "source": [
    "warnings.filterwarnings(\"ignore\")"
   ]
  },
  {
   "cell_type": "code",
   "execution_count": 3,
   "metadata": {},
   "outputs": [],
   "source": [
    "def load_netG(path, isize, nz, nc, ngf, n_extra_layers):\n",
    "    assert isize % 16 == 0, \"isize has to be a multiple of 16\"\n",
    "\n",
    "    cngf, tisize = ngf//2, 4\n",
    "    while tisize != isize:\n",
    "        cngf = cngf * 2\n",
    "        tisize = tisize * 2\n",
    "\n",
    "    main = nn.Sequential()\n",
    "    # input is Z, going into a convolution\n",
    "    main.add_module('initial:{0}-{1}:convt'.format(nz, cngf),\n",
    "                    nn.ConvTranspose2d(nz, cngf, 4, 1, 0, bias=False))\n",
    "    main.add_module('initial:{0}:batchnorm'.format(cngf),\n",
    "                    nn.BatchNorm2d(cngf))\n",
    "    main.add_module('initial:{0}:relu'.format(cngf),\n",
    "                    nn.ReLU(True))\n",
    "\n",
    "    csize, cndf = 4, cngf\n",
    "    while csize < isize//2:\n",
    "        main.add_module('pyramid:{0}-{1}:convt'.format(cngf, cngf//2),\n",
    "                        nn.ConvTranspose2d(cngf, cngf//2, 4, 2, 1, bias=False))\n",
    "        main.add_module('pyramid:{0}:batchnorm'.format(cngf//2),\n",
    "                        nn.BatchNorm2d(cngf//2))\n",
    "        main.add_module('pyramid:{0}:relu'.format(cngf//2),\n",
    "                        nn.ReLU(True))\n",
    "        cngf = cngf // 2\n",
    "        csize = csize * 2\n",
    "\n",
    "    # Extra layers\n",
    "    for t in range(n_extra_layers):\n",
    "        main.add_module('extra-layers-{0}:{1}:conv'.format(t, cngf),\n",
    "                        nn.Conv2d(cngf, cngf, 3, 1, 1, bias=False))\n",
    "        main.add_module('extra-layers-{0}:{1}:batchnorm'.format(t, cngf),\n",
    "                        nn.BatchNorm2d(cngf))\n",
    "        main.add_module('extra-layers-{0}:{1}:relu'.format(t, cngf),\n",
    "                        nn.ReLU(True))\n",
    "\n",
    "    main.add_module('final:{0}-{1}:convt'.format(cngf, nc),\n",
    "                    nn.ConvTranspose2d(cngf, nc, 4, 2, 1, bias=False))\n",
    "    main.add_module('final:{0}:tanh'.format(nc),\n",
    "                    nn.Tanh())\n",
    "    \n",
    "    state_dict = torch.load(path, map_location=torch.device('cpu'))\n",
    "\n",
    "    new_state_dict = OrderedDict()\n",
    "    for k, v in state_dict.items():\n",
    "        name = k[5:] # remove `main.`\n",
    "        new_state_dict[name] = v\n",
    "    \n",
    "    main.load_state_dict(new_state_dict, strict=False)\n",
    "    \n",
    "    return main"
   ]
  },
  {
   "cell_type": "code",
   "execution_count": 4,
   "metadata": {},
   "outputs": [],
   "source": [
    "def load_netG_mlp(path, isize, nz, nc, ngf):\n",
    "    \n",
    "    main = nn.Sequential(\n",
    "        # Z goes into a linear of size: ngf\n",
    "        nn.Linear(nz, ngf),\n",
    "        nn.ReLU(True),\n",
    "        nn.Linear(ngf, ngf),\n",
    "        nn.ReLU(True),\n",
    "        nn.Linear(ngf, ngf),\n",
    "        nn.ReLU(True),\n",
    "        nn.Linear(ngf, nc * isize * isize),\n",
    "    )\n",
    "    \n",
    "    state_dict = torch.load(path, map_location=torch.device('cpu'))\n",
    "\n",
    "    new_state_dict = OrderedDict()\n",
    "    for k, v in state_dict.items():\n",
    "        name = k[5:] # remove `main.`\n",
    "        new_state_dict[name] = v\n",
    "    \n",
    "    main.load_state_dict(new_state_dict, strict=False)\n",
    "    \n",
    "    return main"
   ]
  },
  {
   "cell_type": "code",
   "execution_count": 5,
   "metadata": {},
   "outputs": [],
   "source": [
    "\n",
    "def load_netD(path, isize, nc, ndf, n_extra_layers):\n",
    "    \n",
    "    assert isize % 16 == 0, \"isize has to be a multiple of 16\"\n",
    "\n",
    "    main = nn.Sequential()\n",
    "    # input is nc x isize x isize\n",
    "    main.add_module('initial:{0}-{1}:conv'.format(nc, ndf),\n",
    "                    nn.Conv2d(nc, ndf, 4, 2, 1, bias=False))\n",
    "    main.add_module('initial:{0}:relu'.format(ndf),\n",
    "                    nn.LeakyReLU(0.2, inplace=True))\n",
    "    csize, cndf = isize / 2, ndf\n",
    "\n",
    "    # Extra layers\n",
    "    for t in range(n_extra_layers):\n",
    "        main.add_module('extra-layers-{0}:{1}:conv'.format(t, cndf),\n",
    "                        nn.Conv2d(cndf, cndf, 3, 1, 1, bias=False))\n",
    "        main.add_module('extra-layers-{0}:{1}:batchnorm'.format(t, cndf),\n",
    "                        nn.BatchNorm2d(cndf))\n",
    "        main.add_module('extra-layers-{0}:{1}:relu'.format(t, cndf),\n",
    "                        nn.LeakyReLU(0.2, inplace=True))\n",
    "\n",
    "    while csize > 4:\n",
    "        in_feat = cndf\n",
    "        out_feat = cndf * 2\n",
    "        main.add_module('pyramid:{0}-{1}:conv'.format(in_feat, out_feat),\n",
    "                        nn.Conv2d(in_feat, out_feat, 4, 2, 1, bias=False))\n",
    "        main.add_module('pyramid:{0}:batchnorm'.format(out_feat),\n",
    "                        nn.BatchNorm2d(out_feat))\n",
    "        main.add_module('pyramid:{0}:relu'.format(out_feat),\n",
    "                        nn.LeakyReLU(0.2, inplace=True))\n",
    "        cndf = cndf * 2\n",
    "        csize = csize / 2\n",
    "\n",
    "    # state size. K x 4 x 4\n",
    "    main.add_module('final:{0}-{1}:conv'.format(cndf, 1),\n",
    "                    nn.Conv2d(cndf, 1, 4, 1, 0, bias=False))\n",
    "\n",
    "    state_dict = torch.load(path, map_location=torch.device('cpu'))\n",
    "\n",
    "    new_state_dict = OrderedDict()\n",
    "    for k, v in state_dict.items():\n",
    "        name = k[5:] # remove `module.`\n",
    "        new_state_dict[name] = v\n",
    "\n",
    "    main.load_state_dict(new_state_dict, strict=False)\n",
    "    return main\n",
    "    "
   ]
  },
  {
   "cell_type": "code",
   "execution_count": 6,
   "metadata": {},
   "outputs": [],
   "source": [
    "def load_netD_mlp(path, isize, nc, ndf):\n",
    "    \n",
    "    main = nn.Sequential(\n",
    "            # Z goes into a linear of size: ndf\n",
    "            nn.Linear(nc * isize * isize, ndf),\n",
    "            nn.ReLU(True),\n",
    "            nn.Linear(ndf, ndf),\n",
    "            nn.ReLU(True),\n",
    "            nn.Linear(ndf, ndf),\n",
    "            nn.ReLU(True),\n",
    "            nn.Linear(ndf, 1),\n",
    "        )\n",
    "    \n",
    "    state_dict = torch.load(path, map_location=torch.device('cpu'))\n",
    "    \n",
    "    new_state_dict = OrderedDict()\n",
    "    for k, v in state_dict.items():\n",
    "        name = k[5:] # remove `module.`\n",
    "        new_state_dict[name] = v\n",
    "    \n",
    "    main.load_state_dict(new_state_dict, strict=False)\n",
    "    return main"
   ]
  },
  {
   "cell_type": "code",
   "execution_count": 7,
   "metadata": {},
   "outputs": [],
   "source": [
    "def reshape_mlp_input(input_sample):\n",
    "    return input_sample.view(input_sample.size(0), \n",
    "                             input_sample.size(1) * input_sample.size(2) * input_sample.size(3))"
   ]
  },
  {
   "cell_type": "code",
   "execution_count": 8,
   "metadata": {},
   "outputs": [],
   "source": [
    "def sample_wrapper(samples):\n",
    "    input = torch.FloatTensor(samples.shape[0], 1, 32, 32)\n",
    "    input.resize_as_(samples).copy_(samples)\n",
    "    return Variable(input)"
   ]
  },
  {
   "cell_type": "code",
   "execution_count": 9,
   "metadata": {},
   "outputs": [],
   "source": [
    "# load in all needed data\n",
    "# load real samples\n",
    "num_models = 10\n",
    "real_samples_list = []\n",
    "for i in range(num_models):\n",
    "    dataset = BehavioralDataset(isCnnData=True, isScoring=True, auto_number=i, niter=50)\n",
    "    dataloader = torch.utils.data.DataLoader(dataset, batch_size=3, shuffle=True, num_workers=1)\n",
    "    data_iter = iter(dataloader)\n",
    "    data = data_iter.next()\n",
    "    next_samples, _ = data\n",
    "    real_samples_list.append(next_samples)\n",
    "    \n",
    "\n",
    "# load fake samples\n",
    "h_models_samples_list = []\n",
    "for i in range(1,6):\n",
    "    dataset = BehavioralHmSamples(modelNum=i, isCnnData=True, isScoring=True)\n",
    "    dataloader = torch.utils.data.DataLoader(dataset, batch_size=1000, shuffle=True, num_workers=1)\n",
    "    data_iter = iter(dataloader)\n",
    "    data = data_iter.next()\n",
    "    next_samples, _ = data\n",
    "    h_models_samples_list.append(next_samples)"
   ]
  },
  {
   "cell_type": "code",
   "execution_count": 10,
   "metadata": {},
   "outputs": [],
   "source": [
    "# read in discriminators \n",
    "num_nets = 10\n",
    "dataset = 'behavioral'\n",
    "netD_list = [load_netD('./loss_curves/netD_{0}_50k_{1}_automated.pth'.format(dataset, i), isize=32, nc=1, ndf=64, n_extra_layers=0) for i in range(num_nets)]"
   ]
  },
  {
   "cell_type": "code",
   "execution_count": 11,
   "metadata": {},
   "outputs": [],
   "source": [
    "# score hierarchical models\n",
    "# old way of calculating scores\n",
    "num_h_models = 5\n",
    "num_real_samples = real_samples_list[0].shape[0]\n",
    "scores = np.zeros((num_h_models, num_nets))\n",
    "\n",
    "for j, netD in enumerate(netD_list):\n",
    "    \n",
    "    # score real samples \n",
    "    real_samples_scores = netD(sample_wrapper(real_samples)).data.numpy()\n",
    "    \n",
    "    for i, fake_samples in enumerate(fake_samples_list):\n",
    "        \n",
    "        fake_samples_scores = netD(sample_wrapper(fake_samples)).data.numpy()\n",
    "        \n",
    "        # see how many fake samples were scored as more real than each real samples\n",
    "        num_right = sum([np.sum(fake_samples_scores < real_samples_scores[k]) for k in range(num_real_samples)])\n",
    "#         print('index: ({0}, {1})'.format(i,j))\n",
    "#         print(num_right)\n",
    "#         print(np.sum(fake_samples_scores < real_samples_scores[0]))\n",
    "#         print(np.sum(fake_samples_scores < real_samples_scores[1]))\n",
    "#         print(np.sum(fake_samples_scores < real_samples_scores[2]))\n",
    "#         print(num_right / (1000 * real_samples_scores.shape[0]))\n",
    "#         print('-----------------------')\n",
    "        scores[i,j] = num_right / (1000 * num_real_samples)\n",
    "        "
   ]
  },
  {
   "cell_type": "code",
   "execution_count": 68,
   "metadata": {},
   "outputs": [],
   "source": [
    "# calculate wins array \n",
    "# wins indices: \n",
    "# i is the index for the real triple and net number\n",
    "# j corresponds to the fake sample index in a given fake sample vector\n",
    "# k corresponds to the hierarchical model \n",
    "num_h_models = 5\n",
    "num_real_samples = len(real_samples_list)\n",
    "num_real_samples_per_set = real_samples_list[0].shape[0]\n",
    "num_fake_samples = h_models_samples_list[0].shape[0]\n",
    "array_list = [np.zeros((num_real_samples, num_fake_samples)) for i in range(num_h_models)]\n",
    "wins = np.dstack(array_list)\n",
    "\n",
    "for k, h_model_samples in enumerate(h_models_samples_list):\n",
    "    \n",
    "    for i, real_samples in enumerate(real_samples_list):\n",
    "\n",
    "        netD = netD_list[i]\n",
    "        real_samples_scores = netD(sample_wrapper(real_samples)).data.numpy()\n",
    "        fake_samples_scores = netD(sample_wrapper(h_model_samples)).data.numpy()\n",
    "        \n",
    "        for j in range(num_fake_samples):\n",
    "            \n",
    "            wins_for_sample = 0\n",
    "            \n",
    "            for m in range(num_real_samples_per_set):\n",
    "        \n",
    "                if fake_samples_scores[j] < real_samples_scores[m]:\n",
    "                    wins_for_sample += 1\n",
    "        \n",
    "            wins[i,j,k] = wins_for_sample \n",
    "    "
   ]
  },
  {
   "cell_type": "code",
   "execution_count": 69,
   "metadata": {},
   "outputs": [],
   "source": [
    "np.save('./data/behavioral_wins.npy', wins)"
   ]
  },
  {
   "cell_type": "code",
   "execution_count": 3,
   "metadata": {},
   "outputs": [],
   "source": [
    "wins = np.load('./data/behavioral_wins.npy')"
   ]
  },
  {
   "cell_type": "code",
   "execution_count": 118,
   "metadata": {},
   "outputs": [],
   "source": [
    "import json \n",
    "pd.Series(wins.tolist()).to_json('./data/behavioral_wins.json', orient='records')"
   ]
  },
  {
   "cell_type": "code",
   "execution_count": 67,
   "metadata": {},
   "outputs": [],
   "source": [
    "with open('./data/behavioral_wins2.json', 'w+') as f:\n",
    "    f.write(json.dumps(wins.tolist()))"
   ]
  },
  {
   "cell_type": "code",
   "execution_count": 147,
   "metadata": {},
   "outputs": [
    {
     "data": {
      "text/plain": [
       "array([2., 1., 1., 2., 0., 0., 0., 0., 0., 2., 0., 0., 0., 0., 1., 0., 2.,\n",
       "       2., 2., 0.])"
      ]
     },
     "execution_count": 147,
     "metadata": {},
     "output_type": "execute_result"
    }
   ],
   "source": [
    "wins[0,0:20,0]"
   ]
  },
  {
   "cell_type": "code",
   "execution_count": 148,
   "metadata": {},
   "outputs": [
    {
     "data": {
      "text/plain": [
       "array([2., 0., 2., 1., 0., 2., 2., 0., 2., 2., 2., 2., 2., 2., 2., 0., 0.,\n",
       "       1., 0., 0.])"
      ]
     },
     "execution_count": 148,
     "metadata": {},
     "output_type": "execute_result"
    }
   ],
   "source": [
    "wins[1,0:20,1]"
   ]
  },
  {
   "cell_type": "code",
   "execution_count": 149,
   "metadata": {},
   "outputs": [
    {
     "data": {
      "text/plain": [
       "array([2., 2., 0., 0., 2., 0., 1., 0., 0., 1.])"
      ]
     },
     "execution_count": 149,
     "metadata": {},
     "output_type": "execute_result"
    }
   ],
   "source": [
    "wins[0:20,0,0]"
   ]
  },
  {
   "cell_type": "code",
   "execution_count": 138,
   "metadata": {},
   "outputs": [],
   "source": [
    "import codecs, json \n",
    "\n",
    "file_path = \"./data/behavioral_wins3.json\" ## your path variable\n",
    "json.dump(wins.tolist(), codecs.open(file_path, 'w', encoding='utf-8'), separators=(',', ':'), sort_keys=True, indent=4) "
   ]
  },
  {
   "cell_type": "markdown",
   "metadata": {},
   "source": [
    "# Visualizations of Wins"
   ]
  },
  {
   "cell_type": "code",
   "execution_count": 70,
   "metadata": {},
   "outputs": [
    {
     "data": {
      "text/plain": [
       "(10, 1000, 5)"
      ]
     },
     "execution_count": 70,
     "metadata": {},
     "output_type": "execute_result"
    }
   ],
   "source": [
    "wins.shape"
   ]
  },
  {
   "cell_type": "code",
   "execution_count": 4,
   "metadata": {},
   "outputs": [],
   "source": [
    "means_rs_by_hm = np.mean(wins/3, axis=1)"
   ]
  },
  {
   "cell_type": "code",
   "execution_count": 5,
   "metadata": {},
   "outputs": [
    {
     "data": {
      "text/plain": [
       "array([[0.42466667, 0.49866667, 0.41133333, 0.41266667, 0.583     ],\n",
       "       [0.44633333, 0.45233333, 0.368     , 0.451     , 0.44466667],\n",
       "       [0.424     , 0.48733333, 0.43966667, 0.60666667, 0.47533333],\n",
       "       [0.30366667, 0.35866667, 0.33      , 0.41966667, 0.27733333],\n",
       "       [0.64766667, 0.69566667, 0.55933333, 0.81233333, 0.50233333],\n",
       "       [0.197     , 0.209     , 0.19066667, 0.116     , 0.075     ],\n",
       "       [0.594     , 0.65666667, 0.588     , 0.26266667, 0.70866667],\n",
       "       [0.28      , 0.342     , 0.22266667, 0.366     , 0.23433333],\n",
       "       [0.48433333, 0.52266667, 0.417     , 0.68866667, 0.43966667],\n",
       "       [0.44233333, 0.46233333, 0.42266667, 0.558     , 0.50066667]])"
      ]
     },
     "execution_count": 5,
     "metadata": {},
     "output_type": "execute_result"
    }
   ],
   "source": [
    "means_rs_by_hm"
   ]
  },
  {
   "cell_type": "code",
   "execution_count": 23,
   "metadata": {},
   "outputs": [],
   "source": [
    "model_num = []\n",
    "mean_correct_for_sample = []\n",
    "for j in range(means_rs_by_hm.shape[1]):\n",
    "    for i in range(means_rs_by_hm.shape[0]):\n",
    "        model_num.append(j+1)\n",
    "        mean_correct_for_sample.append(means_rs_by_hm[i,j])\n",
    "correct_df = pd.DataFrame(list(zip(model_num, mean_correct_for_sample)), columns=['Hierarchical Model', 'Average Wins'])"
   ]
  },
  {
   "cell_type": "code",
   "execution_count": 24,
   "metadata": {},
   "outputs": [],
   "source": [
    "import seaborn as sns\n",
    "sns.set()"
   ]
  },
  {
   "cell_type": "code",
   "execution_count": 36,
   "metadata": {},
   "outputs": [
    {
     "data": {
      "image/png": "[encoded data removed]",
      "text/plain": [
       "<Figure size 432x288 with 1 Axes>"
      ]
     },
     "metadata": {},
     "output_type": "display_data"
    }
   ],
   "source": [
    "ax = sns.scatterplot(x=\"Hierarchical Model\", y=\"Average Wins\", data=correct_df)\n",
    "ax.set_title('Average Wins Against Each WGAN Model')\n",
    "ax.set_xticklabels(np.linspace(0.5, 5, 10))\n",
    "\n",
    "# code to modify xticks taken from here:\n",
    "# https://stackoverflow.com/questions/38947115/how-to-decrease-the-density-of-x-ticks-in-seaborn\n",
    "for ind, label in enumerate(ax.get_xticklabels()):\n",
    "    if (ind + 1) % 2 == 0:  # every 10th label is kept\n",
    "        label.set_visible(True)\n",
    "    else:\n",
    "        label.set_visible(False)"
   ]
  },
  {
   "cell_type": "code",
   "execution_count": 164,
   "metadata": {},
   "outputs": [
    {
     "data": {
      "text/plain": [
       "array([0.4335    , 0.47483333, 0.41416667, 0.43533333, 0.46      ])"
      ]
     },
     "execution_count": 164,
     "metadata": {},
     "output_type": "execute_result"
    }
   ],
   "source": [
    "np.median(means_rs_by_hm, axis=0)"
   ]
  },
  {
   "cell_type": "code",
   "execution_count": 136,
   "metadata": {},
   "outputs": [
    {
     "data": {
      "text/plain": [
       "array([0.4244    , 0.46853333, 0.39493333, 0.46936667, 0.4241    ])"
      ]
     },
     "execution_count": 136,
     "metadata": {},
     "output_type": "execute_result"
    }
   ],
   "source": [
    "np.mean(means_rs_by_hm, axis=0)"
   ]
  },
  {
   "cell_type": "code",
   "execution_count": 137,
   "metadata": {},
   "outputs": [
    {
     "data": {
      "text/plain": [
       "array([0.01701457, 0.01869154, 0.01441706, 0.03767257, 0.03009231])"
      ]
     },
     "execution_count": 137,
     "metadata": {},
     "output_type": "execute_result"
    }
   ],
   "source": [
    "np.var(means_rs_by_hm, axis=0)"
   ]
  },
  {
   "cell_type": "code",
   "execution_count": 163,
   "metadata": {},
   "outputs": [
    {
     "data": {
      "text/plain": [
       "array([0.04347997, 0.04557233, 0.04002369, 0.06469807, 0.05782379])"
      ]
     },
     "execution_count": 163,
     "metadata": {},
     "output_type": "execute_result"
    }
   ],
   "source": [
    "scipy.stats.sem(means_rs_by_hm, axis=0)"
   ]
  },
  {
   "cell_type": "markdown",
   "metadata": {},
   "source": [
    "# Analysis of Gammas from R"
   ]
  },
  {
   "cell_type": "markdown",
   "metadata": {},
   "source": [
    "$x_{i,j,k}:=$# of wins for fake sample $j$ from model $k$ over real sample set $i$. \n",
    "\n",
    "\\begin{align*}\n",
    "x_{i,j,k}&\\sim Poisson(\\theta_{i,k})\\\\\n",
    "\\theta_{i,k}&=exp(\\mu_{i}+\\gamma_{k})\n",
    "\\end{align*}"
   ]
  },
  {
   "cell_type": "code",
   "execution_count": 14,
   "metadata": {},
   "outputs": [],
   "source": [
    "gamma = pd.read_csv('./data/behavioral_gamma.csv').to_numpy()\n",
    "mu = pd.read_csv('./data/behavioral_mu.csv').to_numpy()"
   ]
  },
  {
   "cell_type": "code",
   "execution_count": 15,
   "metadata": {},
   "outputs": [
    {
     "data": {
      "text/plain": [
       "array([[0.2169739 , 0.43744048, 0.17871252, 0.18277685, 0.68814521],\n",
       "       [0.39425182, 0.41261686, 0.1663714 , 0.40758805, 0.38817829],\n",
       "       [0.16652075, 0.35062616, 0.20861045, 0.70693925, 0.31603788],\n",
       "       [0.24114753, 0.4038666 , 0.31959881, 0.58619276, 0.16444442],\n",
       "       [0.54094345, 0.6842762 , 0.27869709, 1.03030851, 0.11887574],\n",
       "       [0.45332724, 0.48935376, 0.43553943, 0.21172789, 0.09051479],\n",
       "       [1.03782217, 1.22506139, 1.0184948 , 0.06174422, 1.37744971],\n",
       "       [0.32397429, 0.50882229, 0.15452471, 0.57987598, 0.18627084],\n",
       "       [0.33906973, 0.45303096, 0.14520696, 0.94610929, 0.20456656],\n",
       "       [0.23055113, 0.28999952, 0.17579747, 0.57549801, 0.40360053]])"
      ]
     },
     "execution_count": 15,
     "metadata": {},
     "output_type": "execute_result"
    }
   ],
   "source": [
    "gamma"
   ]
  },
  {
   "cell_type": "code",
   "execution_count": 167,
   "metadata": {},
   "outputs": [
    {
     "data": {
      "text/plain": [
       "array([[1.05745769],\n",
       "       [0.94327328],\n",
       "       [1.11109497],\n",
       "       [0.67052277],\n",
       "       [1.39890966],\n",
       "       [0.13701602],\n",
       "       [0.73954296],\n",
       "       [0.51702225],\n",
       "       [1.1139177 ],\n",
       "       [1.09584356]])"
      ]
     },
     "execution_count": 167,
     "metadata": {},
     "output_type": "execute_result"
    }
   ],
   "source": [
    "mu"
   ]
  },
  {
   "cell_type": "code",
   "execution_count": 159,
   "metadata": {},
   "outputs": [],
   "source": [
    "index_to_model = {i:'Model {0}'.format(i+1) for i in range(num_h_models)}\n",
    "\n",
    "places = {i:{j+1:0 for j in range(num_h_models)} for i in index_to_model.values()}"
   ]
  },
  {
   "cell_type": "code",
   "execution_count": 160,
   "metadata": {},
   "outputs": [],
   "source": [
    "\n",
    "for i in range(gamma.shape[0]):\n",
    "    \n",
    "    ranked_indices = np.argsort(gamma[i,:])[::-1]\n",
    "    placement = 1\n",
    "    \n",
    "    for next_best in ranked_indices:\n",
    "        \n",
    "        places[index_to_model[next_best]][placement]+=1\n",
    "        placement += 1\n",
    "       "
   ]
  },
  {
   "cell_type": "code",
   "execution_count": 161,
   "metadata": {},
   "outputs": [
    {
     "data": {
      "text/plain": [
       "{'Model 1': {1: 0, 2: 1, 3: 6, 4: 2, 5: 1},\n",
       " 'Model 2': {1: 2, 2: 7, 3: 1, 4: 0, 5: 0},\n",
       " 'Model 3': {1: 0, 2: 0, 3: 2, 4: 3, 5: 5},\n",
       " 'Model 4': {1: 6, 2: 1, 3: 0, 4: 2, 5: 1},\n",
       " 'Model 5': {1: 2, 2: 1, 3: 1, 4: 3, 5: 3}}"
      ]
     },
     "execution_count": 161,
     "metadata": {},
     "output_type": "execute_result"
    }
   ],
   "source": [
    "places"
   ]
  },
  {
   "cell_type": "code",
   "execution_count": 17,
   "metadata": {},
   "outputs": [],
   "source": [
    "model_num = []\n",
    "gamma_list = []\n",
    "for j in range(gamma.shape[1]):\n",
    "    for i in range(gamma.shape[0]):\n",
    "        model_num.append(j+1)\n",
    "        gamma_list.append(gamma[i,j])\n",
    "analysis_df = pd.DataFrame(list(zip(model_num, gamma_list)), columns=['Model Number', 'Gamma'])"
   ]
  },
  {
   "cell_type": "code",
   "execution_count": 18,
   "metadata": {},
   "outputs": [
    {
     "data": {
      "text/plain": [
       "Text(0.5,1,'Gamma vs Model Number')"
      ]
     },
     "execution_count": 18,
     "metadata": {},
     "output_type": "execute_result"
    },
    {
     "data": {
      "image/png": "[encoded data removed]",
      "text/plain": [
       "<Figure size 432x288 with 1 Axes>"
      ]
     },
     "metadata": {},
     "output_type": "display_data"
    }
   ],
   "source": [
    "ax = sns.scatterplot(x=\"Model Number\", y=\"Gamma\", data=analysis_df)\n",
    "ax.set_title('Gamma vs Model Number')"
   ]
  },
  {
   "cell_type": "code",
   "execution_count": 19,
   "metadata": {},
   "outputs": [
    {
     "data": {
      "text/plain": [
       "array([0.3944582 , 0.52550942, 0.30815536, 0.52887608, 0.3938084 ])"
      ]
     },
     "execution_count": 19,
     "metadata": {},
     "output_type": "execute_result"
    }
   ],
   "source": [
    "np.mean(gamma, axis=0)"
   ]
  },
  {
   "cell_type": "code",
   "execution_count": 20,
   "metadata": {},
   "outputs": [
    {
     "data": {
      "text/plain": [
       "array([0.33152201, 0.44523572, 0.19366149, 0.57768699, 0.26030222])"
      ]
     },
     "execution_count": 20,
     "metadata": {},
     "output_type": "execute_result"
    }
   ],
   "source": [
    "np.median(gamma, axis=0)"
   ]
  },
  {
   "cell_type": "code",
   "execution_count": 21,
   "metadata": {},
   "outputs": [
    {
     "data": {
      "text/plain": [
       "array([0.05807024, 0.06427656, 0.06362481, 0.09185749, 0.13594274])"
      ]
     },
     "execution_count": 21,
     "metadata": {},
     "output_type": "execute_result"
    }
   ],
   "source": [
    "np.var(gamma, axis=0)"
   ]
  },
  {
   "cell_type": "code",
   "execution_count": 22,
   "metadata": {},
   "outputs": [
    {
     "data": {
      "text/plain": [
       "array([0.0803259 , 0.08450941, 0.08407986, 0.10102667, 0.12290138])"
      ]
     },
     "execution_count": 22,
     "metadata": {},
     "output_type": "execute_result"
    }
   ],
   "source": [
    "scipy.stats.sem(gamma, axis=0)"
   ]
  },
  {
   "cell_type": "code",
   "execution_count": 146,
   "metadata": {},
   "outputs": [],
   "source": [
    "means = list(np.mean(scores, axis=1))\n",
    "samp_se_list = list(scipy.stats.sem(scores, axis=1))\n",
    "var_list = list(np.var(scores, axis=1))"
   ]
  },
  {
   "cell_type": "markdown",
   "metadata": {},
   "source": [
    "Where $\\hat{p}$ is the probability of a dog getting shocked.\n",
    "\n",
    "$X_{1it}$ and $X_{2it}$ are the number of times a dog has respectively been shocked and avoided being shocked in previous trials.\n",
    "\n",
    "Model 1 \n",
    "\\begin{align*}\n",
    "\\hat{p}=\\sigma(\\beta_{1}+\\beta_{2}X_{1it}+\\beta_{3}X_{2it})\n",
    "\\end{align*}\n",
    "\n",
    "Model 2 \n",
    "\\begin{align*}\n",
    "\\hat{p}=exp(\\beta_{1}X_{1it}+\\beta_{2}X_{2it})\n",
    "\\end{align*}\n",
    "\n",
    "Model 3 \n",
    "\\begin{align*}\n",
    "\\hat{p}&=\\sigma(\\frac{\\alpha}{t}+\\gamma)&\\text{$t$ is the trial number}\n",
    "\\end{align*}\n",
    "\n",
    "Model 4 is the \"switch.\" \n",
    "\n",
    "Model 5 \n",
    "\\begin{align*}\n",
    "\\hat{p}&=\\frac{\\alpha}{t}&\\text{$t$ is the trial number}\n",
    "\\end{align*}\n"
   ]
  },
  {
   "cell_type": "code",
   "execution_count": 147,
   "metadata": {},
   "outputs": [
    {
     "name": "stdout",
     "output_type": "stream",
     "text": [
      "Model\t 1 \n",
      "Mean\t 0.667177777777778\n",
      "SE\t 0.024067406051692514\n",
      "Var\t 0.016797960987654324\n",
      "------------------\n",
      "Model\t 2 \n",
      "Mean\t 0.7062666666666666\n",
      "SE\t 0.021775332570521916\n",
      "Var\t 0.013750788148148148\n",
      "------------------\n",
      "Model\t 3 \n",
      "Mean\t 0.5994777777777779\n",
      "SE\t 0.023751027044182103\n",
      "Var\t 0.01635922728395062\n",
      "------------------\n",
      "Model\t 4 \n",
      "Mean\t 0.7566777777777778\n",
      "SE\t 0.03867475633216149\n",
      "Var\t 0.043376366543209886\n",
      "------------------\n",
      "Model\t 5 \n",
      "Mean\t 0.5840888888888888\n",
      "SE\t 0.024412917321396405\n",
      "Var\t 0.017283725432098763\n",
      "------------------\n"
     ]
    }
   ],
   "source": [
    "for mean, var, se, i in zip(means, var_list, samp_se_list, range(1,len(means)+1)):\n",
    "    print('Model\\t {0} \\nMean\\t {1}\\nSE\\t {2}\\nVar\\t {3}'.format(i, mean, se, var))\n",
    "    print('------------------')\n"
   ]
  },
  {
   "cell_type": "markdown",
   "metadata": {},
   "source": [
    "# Scaled Scores"
   ]
  },
  {
   "cell_type": "code",
   "execution_count": 159,
   "metadata": {},
   "outputs": [],
   "source": [
    "scaled_scores = scores.copy()\n",
    "scaler = MinMaxScaler()\n",
    "scaled_scores = scaler.fit_transform(scaled_scores)\n",
    "scaled_scores_df = pd.DataFrame(scaled_scores)\n",
    "scaled_scores_df.to_csv('./data/behavioral_model_scaled_scores.csv', index=False, float_format='%.3f')"
   ]
  },
  {
   "cell_type": "code",
   "execution_count": 161,
   "metadata": {},
   "outputs": [],
   "source": [
    "scaled_means = list(np.mean(scaled_scores, axis=1))\n",
    "scaled_samp_se_list = list(scipy.stats.sem(scaled_scores, axis=1))\n",
    "scaled_var_list = list(np.var(scaled_scores, axis=1))"
   ]
  },
  {
   "cell_type": "code",
   "execution_count": 162,
   "metadata": {},
   "outputs": [
    {
     "name": "stdout",
     "output_type": "stream",
     "text": [
      "Model\t 1 \n",
      "Mean\t 0.514460045178651\n",
      "SE\t 0.05277298885496625\n",
      "Var\t 0.08076466222790538\n",
      "------------------\n",
      "Model\t 2 \n",
      "Mean\t 0.6847650441536497\n",
      "SE\t 0.042408250528907565\n",
      "Var\t 0.05215533167475507\n",
      "------------------\n",
      "Model\t 3 \n",
      "Mean\t 0.2499346024572722\n",
      "SE\t 0.04968043018215691\n",
      "Var\t 0.07157620914944088\n",
      "------------------\n",
      "Model\t 4 \n",
      "Mean\t 0.8158547428141666\n",
      "SE\t 0.06065434855074908\n",
      "Var\t 0.10668954994535694\n",
      "------------------\n",
      "Model\t 5 \n",
      "Mean\t 0.28147390527489147\n",
      "SE\t 0.06812138886255541\n",
      "Var\t 0.13457518499634114\n",
      "------------------\n"
     ]
    }
   ],
   "source": [
    "for mean, var, se, i in zip(scaled_means, scaled_var_list, scaled_samp_se_list, range(1,len(scaled_means)+1)):\n",
    "    print('Model\\t {0} \\nMean\\t {1}\\nSE\\t {2}\\nVar\\t {3}'.format(i, mean, se, var))\n",
    "    print('------------------')"
   ]
  },
  {
   "cell_type": "code",
   "execution_count": 27,
   "metadata": {},
   "outputs": [
    {
     "data": {
      "text/plain": [
       "(5, 1000, 2)"
      ]
     },
     "execution_count": 27,
     "metadata": {},
     "output_type": "execute_result"
    }
   ],
   "source": [
    "a = np.zeros((5,1000))\n",
    "b = np.zeros((5,1000))\n",
    "np.dstack((a,b)).shape"
   ]
  },
  {
   "cell_type": "code",
   "execution_count": 17,
   "metadata": {},
   "outputs": [
    {
     "data": {
      "text/plain": [
       "1000"
      ]
     },
     "execution_count": 17,
     "metadata": {},
     "output_type": "execute_result"
    }
   ],
   "source": [
    "fake_samples_list[0].shape[0]"
   ]
  },
  {
   "cell_type": "code",
   "execution_count": 18,
   "metadata": {},
   "outputs": [
    {
     "ename": "NameError",
     "evalue": "name 'num_real_samples' is not defined",
     "output_type": "error",
     "traceback": [
      "\u001b[1;31m---------------------------------------------------------------------------\u001b[0m",
      "\u001b[1;31mNameError\u001b[0m                                 Traceback (most recent call last)",
      "\u001b[1;32m<ipython-input-18-ea0d7c473575>\u001b[0m in \u001b[0;36m<module>\u001b[1;34m()\u001b[0m\n\u001b[1;32m----> 1\u001b[1;33m \u001b[0mnum_real_samples\u001b[0m\u001b[1;33m\u001b[0m\u001b[0m\n\u001b[0m",
      "\u001b[1;31mNameError\u001b[0m: name 'num_real_samples' is not defined"
     ]
    }
   ],
   "source": [
    "num_real_samples"
   ]
  },
  {
   "cell_type": "code",
   "execution_count": 22,
   "metadata": {},
   "outputs": [
    {
     "data": {
      "text/plain": [
       "(5,)"
      ]
     },
     "execution_count": 22,
     "metadata": {},
     "output_type": "execute_result"
    }
   ],
   "source": [
    "np.sum(a, axis=1).shape"
   ]
  },
  {
   "cell_type": "code",
   "execution_count": 32,
   "metadata": {},
   "outputs": [
    {
     "data": {
      "text/plain": [
       "(1000, 5)"
      ]
     },
     "execution_count": 32,
     "metadata": {},
     "output_type": "execute_result"
    }
   ],
   "source": [
    "np.reshape(a, (a.shape[1], a.shape[0])).shape"
   ]
  },
  {
   "cell_type": "code",
   "execution_count": 29,
   "metadata": {},
   "outputs": [
    {
     "data": {
      "text/plain": [
       "numpy.ndarray"
      ]
     },
     "execution_count": 29,
     "metadata": {},
     "output_type": "execute_result"
    }
   ],
   "source": [
    "type(a)"
   ]
  },
  {
   "cell_type": "code",
   "execution_count": 31,
   "metadata": {},
   "outputs": [
    {
     "data": {
      "text/plain": [
       "5"
      ]
     },
     "execution_count": 31,
     "metadata": {},
     "output_type": "execute_result"
    }
   ],
   "source": [
    "a.shape[0]"
   ]
  },
  {
   "cell_type": "code",
   "execution_count": null,
   "metadata": {},
   "outputs": [],
   "source": []
  }
 ],
 "metadata": {
  "kernelspec": {
   "display_name": "Python 3",
   "language": "python",
   "name": "python3"
  },
  "language_info": {
   "codemirror_mode": {
    "name": "ipython",
    "version": 3
   },
   "file_extension": ".py",
   "mimetype": "text/x-python",
   "name": "python",
   "nbconvert_exporter": "python",
   "pygments_lexer": "ipython3",
   "version": "3.6.5"
  }
 },
 "nbformat": 4,
 "nbformat_minor": 2
}
