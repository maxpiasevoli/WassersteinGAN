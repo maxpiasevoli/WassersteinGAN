{
 "cells": [
  {
   "cell_type": "code",
   "execution_count": 1,
   "metadata": {},
   "outputs": [],
   "source": [
    "import pandas as pd \n",
    "import numpy as np"
   ]
  },
  {
   "cell_type": "code",
   "execution_count": 2,
   "metadata": {},
   "outputs": [],
   "source": [
    "real_samples = pd.read_csv('./data/behavioral.csv')"
   ]
  },
  {
   "cell_type": "code",
   "execution_count": 3,
   "metadata": {},
   "outputs": [],
   "source": [
    "# add real samples\n",
    "data_list = [pd.read_csv('./data/behavioral.csv')]\n",
    "\n",
    "# add fake samples \n",
    "for i in range(1, 6):\n",
    "    data_list.append(pd.read_csv('./data/bl_m{}.csv'.format(i)))"
   ]
  },
  {
   "cell_type": "code",
   "execution_count": 4,
   "metadata": {},
   "outputs": [
    {
     "data": {
      "text/plain": [
       "(30, 25)"
      ]
     },
     "execution_count": 4,
     "metadata": {},
     "output_type": "execute_result"
    }
   ],
   "source": [
    "data_list[0].values.shape"
   ]
  },
  {
   "cell_type": "code",
   "execution_count": 16,
   "metadata": {},
   "outputs": [
    {
     "name": "stdout",
     "output_type": "stream",
     "text": [
      "        REAL DOGS        \\qquad\\qquad  FAKE DOGS (logit model) \\qquad\\qquad      FAKE DOGS (log)     \\qquad\\qquad \n",
      "\n",
      "trial number             \\qquad\\qquad trial number             \\qquad\\qquad trial number             \\qquad\\qquad \n",
      "1   5    10   15   20    \\qquad\\qquad 1   5    10   15   20    \\qquad\\qquad 1   5    10   15   20    \\qquad\\qquad \n",
      "SS.S.S...................\\qquad\\qquad SSS.S..SS................\\qquad\\qquad SSSSSS......S............\n",
      "SSSSSSS.SSSSSS...........\\qquad\\qquad .S.SSS...S...............\\qquad\\qquad SS.SSSS..................\n",
      "SSSSS..S..SS..S.S........\\qquad\\qquad SSSSSSSSS..S.S...........\\qquad\\qquad SSS.S...SS.S.............\n",
      "S..SS....S.S.S...........\\qquad\\qquad SSSS.SSS.................\\qquad\\qquad S.SS..S..S...............\n",
      "SSSSSSSS.................\\qquad\\qquad SSS..SSS.S...............\\qquad\\qquad SS.S..S..S..S..S.........\n",
      "SSSSSS....SS.S...........\\qquad\\qquad SS.S.SSS....S............\\qquad\\qquad SSS.SSS........S..S.S....\n",
      "SSSSS.SSSSSS.............\\qquad\\qquad SS..SS...S...............\\qquad\\qquad SSSSS.SSS.S..............\n",
      "SSSSSSS..SS..............\\qquad\\qquad .SSS.SS...S..............\\qquad\\qquad SSSS.SS...S.SS.S.........\n",
      "SSSSS.S.S..S.SSS.....S..S\\qquad\\qquad SS.SSSSS.S......SS.......\\qquad\\qquad SSSS.S...................\n",
      "SSSS.SS..S.S.............\\qquad\\qquad SS..SS.SS...S............\\qquad\\qquad SSSSS.......S............\n",
      "SSSSSSSSSS......S........\\qquad\\qquad SSSSSSS...SSS............\\qquad\\qquad SSS..SS...SS.............\n",
      "SSSSS.....SS.............\\qquad\\qquad SSSSSSS.SS...............\\qquad\\qquad SSS.SS.SS.S..............\n",
      "SSS..S.SS................\\qquad\\qquad S.SSS.SS......S.S........\\qquad\\qquad SSSS.SSS.................\n",
      "SSSS.S..S................\\qquad\\qquad SSSSSSS.SSSSS..S.........\\qquad\\qquad SSS.S.S..................\n",
      "SSS.S..S.................\\qquad\\qquad SSSSSSS..S..S......S.....\\qquad\\qquad S.S.S..S..S.....S........\n",
      "SSSSSSS..................\\qquad\\qquad SS.SSSS..S...S...........\\qquad\\qquad SSSSS......S..S..........\n",
      "S.S.SSS.S....S...........\\qquad\\qquad SSS.SSS.SSS..............\\qquad\\qquad SSSS.S.SS.S..............\n",
      "SSSS.S.S.................\\qquad\\qquad SSSSSSSSS......S.........\\qquad\\qquad SSSS..S.SS.S.S...........\n",
      "S.SSSS.SSS...............\\qquad\\qquad SS.SS...S..SS............\\qquad\\qquad SSSSSSSSSS....S...S.....S\n",
      "SSSS..S.S..S.S...........\\qquad\\qquad SSSSSS..S....S...........\\qquad\\qquad SSSSS...SS...............\n",
      "SSS.....S................\\qquad\\qquad SS.S.SS..SS....S.........\\qquad\\qquad SSSSSS...................\n",
      "SS.S.S..........SS.......\\qquad\\qquad SS.SSSS..SS..SS..S.......\\qquad\\qquad SSSSSSSS.SSSSS.SS..S.....\n",
      "SSSSSSS..................\\qquad\\qquad SSSSSSS..................\\qquad\\qquad SSSS.S.SSSS....S.........\n",
      "SSSSSSSS...S.SSS..S......\\qquad\\qquad SSSS.S.SSSS.S............\\qquad\\qquad SSSSSS.S.S...............\n",
      "SSSSSS.S....S.S..........\\qquad\\qquad SSSSS.S..S...............\\qquad\\qquad SSSSSSSSSS...............\n",
      "SS.S...S..S..............\\qquad\\qquad SSSSS....S...............\\qquad\\qquad SS.SSSS.S................\n",
      "SSSS.S...................\\qquad\\qquad SSS..S...S..S............\\qquad\\qquad SSSSS.SS.S.....S.........\n",
      "SSS.S.S...S.S............\\qquad\\qquad SSSSSSSS.S..S............\\qquad\\qquad SSS.SS.......S...........\n",
      "SSSS..SS...S.S.S.S.......\\qquad\\qquad SSS...S.SS...............\\qquad\\qquad SSSS.SS..................\n",
      "SSSS......S.S............\\qquad\\qquad .SSSS.............S......\\qquad\\qquad SSSS.SSS.................\n",
      "\n",
      "    FAKE DOGS (LOTM)     \\qquad\\qquad     FAKE DOGS (LFSM)     \\qquad\\qquad    FAKE DOGS (NTLOTM)    \\qquad\\qquad \n",
      "\n",
      "trial number             \\qquad\\qquad trial number             \\qquad\\qquad trial number             \\qquad\\qquad \n",
      "1   5    10   15   20    \\qquad\\qquad 1   5    10   15   20    \\qquad\\qquad 1   5    10   15   20    \\qquad\\qquad \n",
      "SS...SSSS.SS...SS.SSS.S..\\qquad\\qquad SSSS.....................\\qquad\\qquad SS....S............S.....\n",
      "SS.S...S.S.SS..S.SS.S...S\\qquad\\qquad SSSSSSSSSSSSS............\\qquad\\qquad S.S..SS..S...S...........\n",
      ".SSS..SSSSSSSSSSSSS....SS\\qquad\\qquad SSSSSSSSSS...............\\qquad\\qquad S.S..................S...\n",
      "SSSS..S.SS..S.S..S.S.S.S.\\qquad\\qquad SSSSSS...................\\qquad\\qquad SSS....................S.\n",
      "S..SS.S.SS.SS.SSSS.SS.SSS\\qquad\\qquad SSSSSSSS.................\\qquad\\qquad SSS....S............S....\n",
      "SS.S.S.S..S.......S....SS\\qquad\\qquad SSSSSSSSS................\\qquad\\qquad SSSS.....................\n",
      "SS.SSSSSS.SS.S.S..S..S.S.\\qquad\\qquad SSSSSSSSSSS..............\\qquad\\qquad S........................\n",
      "SSS.S..S..S.SSSS...SS..SS\\qquad\\qquad SSSSSSSSS................\\qquad\\qquad SS.S.....................\n",
      "S.SSSSS......SS.S.SSS....\\qquad\\qquad SSSSSSSSSSSSS............\\qquad\\qquad S.S...................S..\n",
      ".S.SS..S...S.S.SSS.S..S.S\\qquad\\qquad SSSSSSSS.................\\qquad\\qquad S.....S.S................\n",
      "..S..S...SSS...S.....S...\\qquad\\qquad SSSSSSSSSSS..............\\qquad\\qquad S..S...S.............S...\n",
      "SSSS...S.SSS...SS.S.S.SS.\\qquad\\qquad SSSSSSS..................\\qquad\\qquad S...S.......S.S..........\n",
      "..S.SS.SS.SSSS.S.SS...SS.\\qquad\\qquad SSSSSS...................\\qquad\\qquad S..S..S..................\n",
      "SSSSS.SSS.S.SS.SS.S.S..SS\\qquad\\qquad SSSSSS...................\\qquad\\qquad S.S....S..SS............S\n",
      "SS.SS...SS..SSS....SS....\\qquad\\qquad SSSSS....................\\qquad\\qquad S...S.S..................\n",
      ".S..SS..SSSSS..S.S...SS.S\\qquad\\qquad SSSSSSS..................\\qquad\\qquad S..S.........S...........\n",
      ".SS.SSS.S.S.S.SSS.....S.S\\qquad\\qquad SSSSSSS..................\\qquad\\qquad SSS..S...................\n",
      "SSS.S.SS..S...S....S.....\\qquad\\qquad SSSSSS...................\\qquad\\qquad S..S.....................\n",
      ".S.SS.S..SS..SSSSSSS.SSSS\\qquad\\qquad SSSSSSSS.................\\qquad\\qquad SSS.S....................\n",
      ".S.S..S.S..SSSS..S..S..S.\\qquad\\qquad SSSSSSSS.................\\qquad\\qquad S..S.......S.S...........\n",
      "SS.S.SSS...SSSS.SSSS.SS.S\\qquad\\qquad SSSS.....................\\qquad\\qquad SS.S.....................\n",
      ".S..S.S..SSS..SS......S..\\qquad\\qquad SSSSSS...................\\qquad\\qquad SS..S..S.S...............\n",
      "SS..SS.SSSS.S.....SSS..SS\\qquad\\qquad SSSSSSS..................\\qquad\\qquad SSS.....S................\n",
      "SS.S...SS.SS..S.SS.SS...S\\qquad\\qquad SSSSSSSSSSSSS............\\qquad\\qquad S...S........S...........\n",
      ".SSS.SSS.SSSSS.SSSSSS...S\\qquad\\qquad SSSSSSSSS................\\qquad\\qquad S..S.....................\n",
      "S.SSSS.SSSSS.S.SSS....S..\\qquad\\qquad SSSSS....................\\qquad\\qquad SS........S..............\n",
      "SSS.SS.S.S.S.SS.S..SSSS..\\qquad\\qquad SSSSS....................\\qquad\\qquad SS.S...S.................\n",
      "SSS...SS.SSSSS...S...S.SS\\qquad\\qquad SSSSSSS..................\\qquad\\qquad S..S.S....SS..S.......S..\n",
      "SS....SSSSSSSS..S.SSSSSS.\\qquad\\qquad SSSSSSSSSS...............\\qquad\\qquad SSS.S....................\n",
      ".....SS.SS.SS.SSSSSS..SSS\\qquad\\qquad SSSSSS...................\\qquad\\qquad S.S....S..S.....S...S....\n",
      "\n"
     ]
    }
   ],
   "source": [
    "hm_names = ['logit model', 'log', 'LOTM', 'LFSM', 'NTLOTM']\n",
    "num_rows_visual = 2\n",
    "data_sets_per_row = 3\n",
    "\n",
    "for k in range(len(data_list)//data_sets_per_row):\n",
    "    \n",
    "    labels = []\n",
    "    \n",
    "    for m in range(data_sets_per_row):\n",
    "        \n",
    "        if m + k * data_sets_per_row == 0:\n",
    "            \n",
    "            labels.append('REAL DOGS')\n",
    "        \n",
    "        else:\n",
    "            \n",
    "            labels.append('FAKE DOGS ({})'.format(hm_names[m + k * data_sets_per_row - 1]))\n",
    "            \n",
    "    \n",
    "    title_string = '{:^25}\\\\qquad\\\\qquad ' * data_sets_per_row\n",
    "    print(title_string.format(*labels))\n",
    "    print()\n",
    "    \n",
    "    for m in range(data_sets_per_row):\n",
    "        \n",
    "        print('{:<25}\\\\qquad\\\\qquad '.format('trial number'), end='')\n",
    "    print()\n",
    "    \n",
    "    for m in range(data_sets_per_row):\n",
    "        \n",
    "        print('{:<4}{:<5}{:<5}{:<5}{:<6}\\\\qquad\\\\qquad '.format(1, 5, 10, 15, 20, 25), end='')\n",
    "    \n",
    "    print()\n",
    "    \n",
    "    num_rows, num_cols = data_list[0].shape\n",
    "    for i in range(num_rows):\n",
    "    \n",
    "        for m in range(data_sets_per_row):\n",
    "        \n",
    "            for j in range(num_cols):\n",
    "                \n",
    "                if data_list[m + k * data_sets_per_row].values[i,j] == 1:\n",
    "                    \n",
    "                    print('S', end='')\n",
    "                \n",
    "                else:\n",
    "                    \n",
    "                    print('.', end='')\n",
    "        \n",
    "            if m != data_sets_per_row - 1:\n",
    "                \n",
    "                print('\\\\qquad\\\\qquad ', end='')\n",
    "            \n",
    "        print()\n",
    "    \n",
    "    print()\n",
    "        "
   ]
  },
  {
   "cell_type": "code",
   "execution_count": 6,
   "metadata": {},
   "outputs": [],
   "source": [
    "def print_sample(sample):\n",
    "    \n",
    "    for i in range(sample.shape[0]):\n",
    "        \n",
    "        if sample[i] == 1:\n",
    "                    \n",
    "            print('S', end='')\n",
    "\n",
    "        else:\n",
    "\n",
    "            print('.', end='')\n",
    "    \n",
    "    print('\\\\qquad\\\\qquad ', end=\"\")\n",
    "        "
   ]
  },
  {
   "cell_type": "code",
   "execution_count": 21,
   "metadata": {},
   "outputs": [
    {
     "name": "stdout",
     "output_type": "stream",
     "text": [
      "\\qquad\\qquad\\qquad\\qquad       Single Sample      \\qquad\\qquad      Stacked Sample      \n",
      "\n",
      "\\qquad\\qquad\\qquad\\qquad                          \\qquad\\qquad SSS.S.S...S.S............\\qquad\\qquad \n",
      "\\qquad\\qquad\\qquad\\qquad                          \\qquad\\qquad SSS.S.S...S.S............\\qquad\\qquad \n",
      "\\qquad\\qquad\\qquad\\qquad                          \\qquad\\qquad SSS.S.S...S.S............\\qquad\\qquad \n",
      "\\qquad\\qquad\\qquad\\qquad                          \\qquad\\qquad SSS.S.S...S.S............\\qquad\\qquad \n",
      "\\qquad\\qquad\\qquad\\qquad                          \\qquad\\qquad SSS.S.S...S.S............\\qquad\\qquad \n",
      "\\qquad\\qquad\\qquad\\qquad                          \\qquad\\qquad SSS.S.S...S.S............\\qquad\\qquad \n",
      "\\qquad\\qquad\\qquad\\qquad                          \\qquad\\qquad SSS.S.S...S.S............\\qquad\\qquad \n",
      "\\qquad\\qquad\\qquad\\qquad                          \\qquad\\qquad SSS.S.S...S.S............\\qquad\\qquad \n",
      "\\qquad\\qquad\\qquad\\qquad                          \\qquad\\qquad SSS.S.S...S.S............\\qquad\\qquad \n",
      "\\qquad\\qquad\\qquad\\qquad                          \\qquad\\qquad SSS.S.S...S.S............\\qquad\\qquad \n",
      "\\qquad\\qquad\\qquad\\qquad                          \\qquad\\qquad SSS.S.S...S.S............\\qquad\\qquad \n",
      "\\qquad\\qquad\\qquad\\qquad                          \\qquad\\qquad SSS.S.S...S.S............\\qquad\\qquad \n",
      "\\qquad\\qquad\\qquad\\qquad SSS.S.S...S.S............\\qquad\\qquad SSS.S.S...S.S............\\qquad\\qquad \n",
      "\\qquad\\qquad\\qquad\\qquad                          \\qquad\\qquad SSS.S.S...S.S............\\qquad\\qquad \n",
      "\\qquad\\qquad\\qquad\\qquad                          \\qquad\\qquad SSS.S.S...S.S............\\qquad\\qquad \n",
      "\\qquad\\qquad\\qquad\\qquad                          \\qquad\\qquad SSS.S.S...S.S............\\qquad\\qquad \n",
      "\\qquad\\qquad\\qquad\\qquad                          \\qquad\\qquad SSS.S.S...S.S............\\qquad\\qquad \n",
      "\\qquad\\qquad\\qquad\\qquad                          \\qquad\\qquad SSS.S.S...S.S............\\qquad\\qquad \n",
      "\\qquad\\qquad\\qquad\\qquad                          \\qquad\\qquad SSS.S.S...S.S............\\qquad\\qquad \n",
      "\\qquad\\qquad\\qquad\\qquad                          \\qquad\\qquad SSS.S.S...S.S............\\qquad\\qquad \n",
      "\\qquad\\qquad\\qquad\\qquad                          \\qquad\\qquad SSS.S.S...S.S............\\qquad\\qquad \n",
      "\\qquad\\qquad\\qquad\\qquad                          \\qquad\\qquad SSS.S.S...S.S............\\qquad\\qquad \n",
      "\\qquad\\qquad\\qquad\\qquad                          \\qquad\\qquad SSS.S.S...S.S............\\qquad\\qquad \n",
      "\\qquad\\qquad\\qquad\\qquad                          \\qquad\\qquad SSS.S.S...S.S............\\qquad\\qquad \n",
      "\\qquad\\qquad\\qquad\\qquad                          \\qquad\\qquad SSS.S.S...S.S............\\qquad\\qquad \n"
     ]
    }
   ],
   "source": [
    "sample = data_list[0].values[-3]\n",
    "\n",
    "print('\\\\qquad\\\\qquad\\\\qquad\\\\qquad ', end=\"\")\n",
    "print('{:^25}\\\\qquad\\\\qquad '.format('Single Sample'), end=\"\")\n",
    "print('{:^25}'.format('Stacked Sample'))\n",
    "print()\n",
    "\n",
    "for i in range(num_cols):\n",
    "    \n",
    "    print('\\\\qquad\\\\qquad\\\\qquad\\\\qquad ', end=\"\")\n",
    "    if i == 12:\n",
    "        \n",
    "        print_sample(sample)\n",
    "        \n",
    "    else:\n",
    "        \n",
    "        print('{:25}\\\\qquad\\\\qquad '.format(''), end=\"\")\n",
    "    \n",
    "    print_sample(sample)\n",
    "    print()\n",
    "    \n",
    "    \n"
   ]
  },
  {
   "cell_type": "code",
   "execution_count": 37,
   "metadata": {},
   "outputs": [],
   "source": [
    "sample = data_list[0].values"
   ]
  },
  {
   "cell_type": "code",
   "execution_count": 35,
   "metadata": {},
   "outputs": [
    {
     "data": {
      "text/plain": [
       "array([1, 1, 1, 1, 1, 1, 1, 1, 0, 0, 0, 1, 0, 1, 1, 1, 0, 0, 1, 0, 0, 0,\n",
       "       0, 0, 0], dtype=int64)"
      ]
     },
     "execution_count": 35,
     "metadata": {},
     "output_type": "execute_result"
    }
   ],
   "source": [
    "sample"
   ]
  },
  {
   "cell_type": "code",
   "execution_count": 36,
   "metadata": {},
   "outputs": [
    {
     "data": {
      "text/plain": [
       "6"
      ]
     },
     "execution_count": 36,
     "metadata": {},
     "output_type": "execute_result"
    }
   ],
   "source": [
    "len(data_list)"
   ]
  },
  {
   "cell_type": "code",
   "execution_count": 49,
   "metadata": {},
   "outputs": [
    {
     "data": {
      "text/plain": [
       "array([1, 1, 1, 0, 1, 0, 1, 0, 0, 0, 1, 0, 1, 0, 0, 0, 0, 0, 0, 0, 0, 0,\n",
       "       0, 0, 0], dtype=int64)"
      ]
     },
     "execution_count": 49,
     "metadata": {},
     "output_type": "execute_result"
    }
   ],
   "source": [
    "sample[-3]"
   ]
  },
  {
   "cell_type": "code",
   "execution_count": null,
   "metadata": {},
   "outputs": [],
   "source": []
  }
 ],
 "metadata": {
  "kernelspec": {
   "display_name": "Python 3",
   "language": "python",
   "name": "python3"
  },
  "language_info": {
   "codemirror_mode": {
    "name": "ipython",
    "version": 3
   },
   "file_extension": ".py",
   "mimetype": "text/x-python",
   "name": "python",
   "nbconvert_exporter": "python",
   "pygments_lexer": "ipython3",
   "version": "3.6.5"
  }
 },
 "nbformat": 4,
 "nbformat_minor": 2
}
